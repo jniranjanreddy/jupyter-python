{
 "cells": [
  {
   "cell_type": "markdown",
   "id": "b9c9645a",
   "metadata": {},
   "source": [
    "# String Lessons"
   ]
  },
  {
   "cell_type": "code",
   "execution_count": 28,
   "id": "d563040b",
   "metadata": {},
   "outputs": [
    {
     "name": "stdout",
     "output_type": "stream",
     "text": [
      "Enter a number between 100 to 500 333\n",
      "Given Number is correct 333\n",
      "count of count: 0 Rama\n",
      "count of count: 1 Rama\n",
      "count of count: 2 Rama\n",
      "count of count: 3 Rama\n",
      "The number 2 is even\n",
      "The number 3 is odd\n",
      "The number 4 is even\n"
     ]
    }
   ],
   "source": [
    "#===========================================================\n",
    "count = 1\n",
    "a = \"Rama\"\n",
    "while count < 11:\n",
    "    #print(a)\n",
    "    count = count + 1\n",
    "#============================================================\n",
    "number = int(input('Enter a number between 100 to 500 '))\n",
    "while number < 100 or number > 500:\n",
    "    print('Incorrect number, Please enter correct number:')\n",
    "    number = int(input('Enter a number between 100 to 500 '))\n",
    "else: \n",
    "    print(\"Given Number is correct\", number)\n",
    "#==========================================================\n",
    "\n",
    "count = 0\n",
    "a = \"Rama\"\n",
    "a_count = len(a)\n",
    "while count < a_count:\n",
    "    \n",
    "    print(\"count of count:\", count, a)\n",
    "    count = count + 1\n",
    "#===========================================================\n",
    "number = 2\n",
    "while number < 5 :  \n",
    "    # Find the mod of 2\n",
    "    if number%2 == 0:  \n",
    "        #print(\"The number \"+str(number)+\" is even\")\n",
    "        print(\"The number\", number, \"is even\")\n",
    "    else:\n",
    "        print(\"The number \"+str(number)+\" is odd\")\n",
    "\n",
    "    # Increment `number` by 1\n",
    "    number = number+1"
   ]
  },
  {
   "cell_type": "code",
   "execution_count": 22,
   "id": "ee3249d9",
   "metadata": {},
   "outputs": [
    {
     "name": "stdout",
     "output_type": "stream",
     "text": [
      "This is Tuple: ('Rama', 'Sita', 'Laxmana', 'Hanuma')\n",
      "this is List: ['Rama', 'Sita', 'Laxmana', 'Hanuma']\n",
      "Rama Govinda\n",
      "Sita Govinda\n",
      "Laxmana Govinda\n",
      "Hanuma Govinda\n",
      "Rama\n",
      "Sita\n",
      "Laxmana\n",
      "Hanuma\n"
     ]
    }
   ],
   "source": [
    "a = \"Rama\"\n",
    "b = \"Sita\"\n",
    "c = \"Laxmana\"\n",
    "d = \"Hanuma\"\n",
    "#print(\"My Lord :\", a+b, c,d)\n",
    "#===============================\n",
    "om_tuple = a, b, c, d\n",
    "om_list = [a,b,c,d]\n",
    "\n",
    "print(\"This is Tuple:\", om_tuple) # print Tuple\n",
    "print(\"this is List:\", om_list) # Print List\n",
    "\n",
    "for i in om_tuple: # looping tuple\n",
    "    print(i, \"Govinda\")\n",
    "\n",
    "for j in om_list:\n",
    "    print(j)\n",
    "    \n"
   ]
  },
  {
   "cell_type": "code",
   "execution_count": 1,
   "id": "6f0ca937",
   "metadata": {},
   "outputs": [
    {
     "name": "stdout",
     "output_type": "stream",
     "text": [
      "<class 'int'>\n",
      "<class 'str'>\n",
      "<class 'bool'>\n",
      "<class 'float'>\n",
      "<class 'tuple'>\n",
      "<class 'list'>\n",
      "<class 'set'>\n",
      "<class 'dict'>\n"
     ]
    }
   ],
   "source": [
    "#a = [\"rama\", \"laxmana\"]\n",
    "#for i in a:\n",
    "#    print(i, \"jay\", i)\n",
    "\n",
    "a=10 # int\n",
    "b=\"Hello\" # String\n",
    "c=True    # Boolean\n",
    "d=1.1     # Float\n",
    "e=(1,2)   #Tuple\n",
    "f=[1,2]   #List\n",
    "g={1,2}   #Set\n",
    "h={\"name\": \"niru\"} #Dict\n",
    "print(type(a))\n",
    "print(type(b))\n",
    "print(type(c))\n",
    "print(type(d))\n",
    "print(type(e))\n",
    "print(type(f))\n",
    "print(type(g))\n",
    "print(type(h))"
   ]
  },
  {
   "cell_type": "markdown",
   "id": "4608b588",
   "metadata": {},
   "source": [
    "\n",
    "# While Loop"
   ]
  }
 ],
 "metadata": {
  "kernelspec": {
   "display_name": "Python 3",
   "language": "python",
   "name": "python3"
  },
  "language_info": {
   "codemirror_mode": {
    "name": "ipython",
    "version": 3
   },
   "file_extension": ".py",
   "mimetype": "text/x-python",
   "name": "python",
   "nbconvert_exporter": "python",
   "pygments_lexer": "ipython3",
   "version": "3.8.8"
  }
 },
 "nbformat": 4,
 "nbformat_minor": 5
}
